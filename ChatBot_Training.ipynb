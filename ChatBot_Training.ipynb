{
 "cells": [
  {
   "cell_type": "code",
   "execution_count": 1,
   "metadata": {},
   "outputs": [],
   "source": [
    "import warnings\n",
    "warnings.filterwarnings(\"ignore\")\n",
    "\n",
    "from transformers import BartTokenizer, BartForConditionalGeneration, Trainer, TrainingArguments\n",
    "import torch\n",
    "import pandas as pd\n",
    "import numpy as np\n",
    "from sklearn.model_selection import train_test_split\n",
    "from torch.utils.data import Dataset\n",
    "import matplotlib.pyplot as plt"
   ]
  },
  {
   "cell_type": "code",
   "execution_count": 2,
   "metadata": {},
   "outputs": [
    {
     "data": {
      "text/html": [
       "<div>\n",
       "<style scoped>\n",
       "    .dataframe tbody tr th:only-of-type {\n",
       "        vertical-align: middle;\n",
       "    }\n",
       "\n",
       "    .dataframe tbody tr th {\n",
       "        vertical-align: top;\n",
       "    }\n",
       "\n",
       "    .dataframe thead th {\n",
       "        text-align: right;\n",
       "    }\n",
       "</style>\n",
       "<table border=\"1\" class=\"dataframe\">\n",
       "  <thead>\n",
       "    <tr style=\"text-align: right;\">\n",
       "      <th></th>\n",
       "      <th>query</th>\n",
       "      <th>response</th>\n",
       "    </tr>\n",
       "  </thead>\n",
       "  <tbody>\n",
       "    <tr>\n",
       "      <th>0</th>\n",
       "      <td>My order hasn't arrived yet.</td>\n",
       "      <td>We apologize for the inconvenience. Can you pl...</td>\n",
       "    </tr>\n",
       "    <tr>\n",
       "      <th>1</th>\n",
       "      <td>I received a damaged product.</td>\n",
       "      <td>We apologize for the inconvenience. Can you pl...</td>\n",
       "    </tr>\n",
       "    <tr>\n",
       "      <th>2</th>\n",
       "      <td>I need to return an item.</td>\n",
       "      <td>Certainly. Please provide your order number an...</td>\n",
       "    </tr>\n",
       "    <tr>\n",
       "      <th>3</th>\n",
       "      <td>I want to change my shipping address.</td>\n",
       "      <td>No problem. Can you please provide your order ...</td>\n",
       "    </tr>\n",
       "    <tr>\n",
       "      <th>4</th>\n",
       "      <td>I have a question about my bill.</td>\n",
       "      <td>We'd be happy to help. Can you please provide ...</td>\n",
       "    </tr>\n",
       "    <tr>\n",
       "      <th>...</th>\n",
       "      <td>...</td>\n",
       "      <td>...</td>\n",
       "    </tr>\n",
       "    <tr>\n",
       "      <th>69</th>\n",
       "      <td>How do I schedule a consultation or appointment?</td>\n",
       "      <td>We'd be happy to help. Can you please provide ...</td>\n",
       "    </tr>\n",
       "    <tr>\n",
       "      <th>70</th>\n",
       "      <td>Can I get a copy of my receipt?</td>\n",
       "      <td>Certainly. Can you please provide your order n...</td>\n",
       "    </tr>\n",
       "    <tr>\n",
       "      <th>71</th>\n",
       "      <td>Can I use a competitor's coupon at your store?</td>\n",
       "      <td>In some cases, we may accept competitor coupon...</td>\n",
       "    </tr>\n",
       "    <tr>\n",
       "      <th>72</th>\n",
       "      <td>Do you have a recycling program?</td>\n",
       "      <td>Yes, we do have a recycling program. Can you p...</td>\n",
       "    </tr>\n",
       "    <tr>\n",
       "      <th>73</th>\n",
       "      <td>How do I report a lost or stolen gift card?</td>\n",
       "      <td>We're sorry to hear that. Can you please provi...</td>\n",
       "    </tr>\n",
       "  </tbody>\n",
       "</table>\n",
       "<p>74 rows × 2 columns</p>\n",
       "</div>"
      ],
      "text/plain": [
       "                                               query  \\\n",
       "0                       My order hasn't arrived yet.   \n",
       "1                      I received a damaged product.   \n",
       "2                          I need to return an item.   \n",
       "3              I want to change my shipping address.   \n",
       "4                   I have a question about my bill.   \n",
       "..                                               ...   \n",
       "69  How do I schedule a consultation or appointment?   \n",
       "70                   Can I get a copy of my receipt?   \n",
       "71    Can I use a competitor's coupon at your store?   \n",
       "72                  Do you have a recycling program?   \n",
       "73       How do I report a lost or stolen gift card?   \n",
       "\n",
       "                                             response  \n",
       "0   We apologize for the inconvenience. Can you pl...  \n",
       "1   We apologize for the inconvenience. Can you pl...  \n",
       "2   Certainly. Please provide your order number an...  \n",
       "3   No problem. Can you please provide your order ...  \n",
       "4   We'd be happy to help. Can you please provide ...  \n",
       "..                                                ...  \n",
       "69  We'd be happy to help. Can you please provide ...  \n",
       "70  Certainly. Can you please provide your order n...  \n",
       "71  In some cases, we may accept competitor coupon...  \n",
       "72  Yes, we do have a recycling program. Can you p...  \n",
       "73  We're sorry to hear that. Can you please provi...  \n",
       "\n",
       "[74 rows x 2 columns]"
      ]
     },
     "execution_count": 2,
     "metadata": {},
     "output_type": "execute_result"
    }
   ],
   "source": [
    "# Load dataset\n",
    "data = pd.read_csv('Customer-Support.csv')\n",
    "data"
   ]
  },
  {
   "cell_type": "code",
   "execution_count": 3,
   "metadata": {},
   "outputs": [
    {
     "name": "stdout",
     "output_type": "stream",
     "text": [
      "<class 'pandas.core.frame.DataFrame'>\n",
      "RangeIndex: 74 entries, 0 to 73\n",
      "Data columns (total 2 columns):\n",
      " #   Column    Non-Null Count  Dtype \n",
      "---  ------    --------------  ----- \n",
      " 0   query     74 non-null     object\n",
      " 1   response  74 non-null     object\n",
      "dtypes: object(2)\n",
      "memory usage: 1.3+ KB\n"
     ]
    }
   ],
   "source": [
    "data.info()"
   ]
  },
  {
   "cell_type": "code",
   "execution_count": 4,
   "metadata": {},
   "outputs": [
    {
     "data": {
      "text/html": [
       "<div>\n",
       "<style scoped>\n",
       "    .dataframe tbody tr th:only-of-type {\n",
       "        vertical-align: middle;\n",
       "    }\n",
       "\n",
       "    .dataframe tbody tr th {\n",
       "        vertical-align: top;\n",
       "    }\n",
       "\n",
       "    .dataframe thead th {\n",
       "        text-align: right;\n",
       "    }\n",
       "</style>\n",
       "<table border=\"1\" class=\"dataframe\">\n",
       "  <thead>\n",
       "    <tr style=\"text-align: right;\">\n",
       "      <th></th>\n",
       "      <th>input_text</th>\n",
       "      <th>target_text</th>\n",
       "    </tr>\n",
       "  </thead>\n",
       "  <tbody>\n",
       "    <tr>\n",
       "      <th>0</th>\n",
       "      <td>My order hasn't arrived yet. [SEP]</td>\n",
       "      <td>We apologize for the inconvenience. Can you pl...</td>\n",
       "    </tr>\n",
       "    <tr>\n",
       "      <th>1</th>\n",
       "      <td>I received a damaged product. [SEP]</td>\n",
       "      <td>We apologize for the inconvenience. Can you pl...</td>\n",
       "    </tr>\n",
       "    <tr>\n",
       "      <th>2</th>\n",
       "      <td>I need to return an item. [SEP]</td>\n",
       "      <td>Certainly. Please provide your order number an...</td>\n",
       "    </tr>\n",
       "    <tr>\n",
       "      <th>3</th>\n",
       "      <td>I want to change my shipping address. [SEP]</td>\n",
       "      <td>No problem. Can you please provide your order ...</td>\n",
       "    </tr>\n",
       "    <tr>\n",
       "      <th>4</th>\n",
       "      <td>I have a question about my bill. [SEP]</td>\n",
       "      <td>We'd be happy to help. Can you please provide ...</td>\n",
       "    </tr>\n",
       "    <tr>\n",
       "      <th>...</th>\n",
       "      <td>...</td>\n",
       "      <td>...</td>\n",
       "    </tr>\n",
       "    <tr>\n",
       "      <th>69</th>\n",
       "      <td>How do I schedule a consultation or appointmen...</td>\n",
       "      <td>We'd be happy to help. Can you please provide ...</td>\n",
       "    </tr>\n",
       "    <tr>\n",
       "      <th>70</th>\n",
       "      <td>Can I get a copy of my receipt? [SEP]</td>\n",
       "      <td>Certainly. Can you please provide your order n...</td>\n",
       "    </tr>\n",
       "    <tr>\n",
       "      <th>71</th>\n",
       "      <td>Can I use a competitor's coupon at your store?...</td>\n",
       "      <td>In some cases, we may accept competitor coupon...</td>\n",
       "    </tr>\n",
       "    <tr>\n",
       "      <th>72</th>\n",
       "      <td>Do you have a recycling program? [SEP]</td>\n",
       "      <td>Yes, we do have a recycling program. Can you p...</td>\n",
       "    </tr>\n",
       "    <tr>\n",
       "      <th>73</th>\n",
       "      <td>How do I report a lost or stolen gift card? [S...</td>\n",
       "      <td>We're sorry to hear that. Can you please provi...</td>\n",
       "    </tr>\n",
       "  </tbody>\n",
       "</table>\n",
       "<p>74 rows × 2 columns</p>\n",
       "</div>"
      ],
      "text/plain": [
       "                                           input_text  \\\n",
       "0                 My order hasn't arrived yet. [SEP]    \n",
       "1                I received a damaged product. [SEP]    \n",
       "2                    I need to return an item. [SEP]    \n",
       "3        I want to change my shipping address. [SEP]    \n",
       "4             I have a question about my bill. [SEP]    \n",
       "..                                                ...   \n",
       "69  How do I schedule a consultation or appointmen...   \n",
       "70             Can I get a copy of my receipt? [SEP]    \n",
       "71  Can I use a competitor's coupon at your store?...   \n",
       "72            Do you have a recycling program? [SEP]    \n",
       "73  How do I report a lost or stolen gift card? [S...   \n",
       "\n",
       "                                          target_text  \n",
       "0   We apologize for the inconvenience. Can you pl...  \n",
       "1   We apologize for the inconvenience. Can you pl...  \n",
       "2   Certainly. Please provide your order number an...  \n",
       "3   No problem. Can you please provide your order ...  \n",
       "4   We'd be happy to help. Can you please provide ...  \n",
       "..                                                ...  \n",
       "69  We'd be happy to help. Can you please provide ...  \n",
       "70  Certainly. Can you please provide your order n...  \n",
       "71  In some cases, we may accept competitor coupon...  \n",
       "72  Yes, we do have a recycling program. Can you p...  \n",
       "73  We're sorry to hear that. Can you please provi...  \n",
       "\n",
       "[74 rows x 2 columns]"
      ]
     },
     "execution_count": 4,
     "metadata": {},
     "output_type": "execute_result"
    }
   ],
   "source": [
    "# Concatenate query and response with a special token\n",
    "df = pd.DataFrame()\n",
    "df['input_text'] = data['query'] + \" [SEP] \"  # If you intend to use the response as the target\n",
    "df['target_text'] = data['response']\n",
    "df"
   ]
  },
  {
   "cell_type": "code",
   "execution_count": 5,
   "metadata": {},
   "outputs": [
    {
     "name": "stdout",
     "output_type": "stream",
     "text": [
      "Maximum word count: 32\n",
      "Minimum word count: 5\n",
      "25th percentile word count: 8.0\n",
      "50th percentile word count (median): 14.0\n",
      "75th percentile word count: 23.0\n",
      "90th percentile word count: 26.0\n"
     ]
    }
   ],
   "source": [
    "# Function to calculate word count\n",
    "def count_words(text):\n",
    "    words = text.split()\n",
    "    return len(words)\n",
    "\n",
    "# Calculate word counts for each row\n",
    "df['word_count_input'] = df['input_text'].apply(count_words)\n",
    "df['word_count_target'] = df['target_text'].apply(count_words)\n",
    "\n",
    "# Get statistics: max, min, percentiles\n",
    "word_counts = df[['word_count_input', 'word_count_target']].values.flatten()\n",
    "\n",
    "max_word_count = np.max(word_counts)\n",
    "min_word_count = np.min(word_counts)\n",
    "percentiles = np.percentile(word_counts, [25, 50, 75, 90])\n",
    "\n",
    "print(f\"Maximum word count: {max_word_count}\")\n",
    "print(f\"Minimum word count: {min_word_count}\")\n",
    "print(f\"25th percentile word count: {percentiles[0]}\")\n",
    "print(f\"50th percentile word count (median): {percentiles[1]}\")\n",
    "print(f\"75th percentile word count: {percentiles[2]}\")\n",
    "print(f\"90th percentile word count: {percentiles[3]}\")"
   ]
  },
  {
   "cell_type": "code",
   "execution_count": 6,
   "metadata": {},
   "outputs": [],
   "source": [
    "# Initialize tokenizer\n",
    "tokenizer = BartTokenizer.from_pretrained('facebook/bart-large')\n",
    "\n",
    "# Tokenize the data\n",
    "def tokenize_function(texts, labels=None):\n",
    "    encodings = tokenizer(texts.tolist(), padding=True, truncation=True, return_tensors=\"pt\")\n",
    "    if labels is not None:\n",
    "        label_encodings = tokenizer(labels.tolist(), padding=True, truncation=True, return_tensors=\"pt\")\n",
    "        encodings['labels'] = label_encodings['input_ids']\n",
    "        # Create a mask for the pad token and set them to -100\n",
    "        encodings['labels'][encodings['labels'] == tokenizer.pad_token_id] = 50\n",
    "    return encodings\n",
    "\n",
    "train_data, val_data = train_test_split(df[['input_text', 'target_text']], test_size=0.1, random_state=42)\n",
    "\n",
    "train_encodings = tokenize_function(train_data['input_text'], train_data['target_text'])\n",
    "val_encodings = tokenize_function(val_data['input_text'], val_data['target_text'])\n",
    "\n",
    "class CustomDataset(Dataset):\n",
    "    def __init__(self, encodings):\n",
    "        self.encodings = encodings\n",
    "\n",
    "    def __getitem__(self, idx):\n",
    "        item = {key: torch.tensor(val[idx]) for key, val in self.encodings.items()}\n",
    "        return item\n",
    "\n",
    "    def __len__(self):\n",
    "        return len(self.encodings['input_ids'])\n",
    "\n",
    "train_dataset = CustomDataset(train_encodings)\n",
    "val_dataset = CustomDataset(val_encodings)"
   ]
  },
  {
   "cell_type": "code",
   "execution_count": 8,
   "metadata": {},
   "outputs": [
    {
     "data": {
      "application/vnd.jupyter.widget-view+json": {
       "model_id": "6f633bc89d2a4640bf826c7521197b76",
       "version_major": 2,
       "version_minor": 0
      },
      "text/plain": [
       "  0%|          | 0/340 [00:00<?, ?it/s]"
      ]
     },
     "metadata": {},
     "output_type": "display_data"
    },
    {
     "name": "stdout",
     "output_type": "stream",
     "text": [
      "{'loss': 10.3222, 'learning_rate': 1.0000000000000002e-06, 'epoch': 0.59}\n"
     ]
    },
    {
     "data": {
      "application/vnd.jupyter.widget-view+json": {
       "model_id": "7164c7de401940e9bd6a620987ee0f63",
       "version_major": 2,
       "version_minor": 0
      },
      "text/plain": [
       "  0%|          | 0/2 [00:00<?, ?it/s]"
      ]
     },
     "metadata": {},
     "output_type": "display_data"
    },
    {
     "name": "stdout",
     "output_type": "stream",
     "text": [
      "{'eval_loss': 9.707420349121094, 'eval_runtime': 0.1476, 'eval_samples_per_second': 54.203, 'eval_steps_per_second': 13.551, 'epoch': 0.59}\n",
      "{'loss': 7.9468, 'learning_rate': 2.0000000000000003e-06, 'epoch': 1.18}\n"
     ]
    },
    {
     "data": {
      "application/vnd.jupyter.widget-view+json": {
       "model_id": "afecad04465441a19898d89701d5cb35",
       "version_major": 2,
       "version_minor": 0
      },
      "text/plain": [
       "  0%|          | 0/2 [00:00<?, ?it/s]"
      ]
     },
     "metadata": {},
     "output_type": "display_data"
    },
    {
     "name": "stdout",
     "output_type": "stream",
     "text": [
      "{'eval_loss': 5.919564247131348, 'eval_runtime': 0.088, 'eval_samples_per_second': 90.889, 'eval_steps_per_second': 22.722, 'epoch': 1.18}\n",
      "{'loss': 5.3332, 'learning_rate': 3e-06, 'epoch': 1.76}\n"
     ]
    },
    {
     "data": {
      "application/vnd.jupyter.widget-view+json": {
       "model_id": "7386f30621d34d2cb8ce127c8af4ea96",
       "version_major": 2,
       "version_minor": 0
      },
      "text/plain": [
       "  0%|          | 0/2 [00:00<?, ?it/s]"
      ]
     },
     "metadata": {},
     "output_type": "display_data"
    },
    {
     "name": "stdout",
     "output_type": "stream",
     "text": [
      "{'eval_loss': 3.590090751647949, 'eval_runtime': 0.108, 'eval_samples_per_second': 74.058, 'eval_steps_per_second': 18.514, 'epoch': 1.76}\n",
      "{'loss': 3.2732, 'learning_rate': 4.000000000000001e-06, 'epoch': 2.35}\n"
     ]
    },
    {
     "data": {
      "application/vnd.jupyter.widget-view+json": {
       "model_id": "501b2b878e844323ab60407b132fa908",
       "version_major": 2,
       "version_minor": 0
      },
      "text/plain": [
       "  0%|          | 0/2 [00:00<?, ?it/s]"
      ]
     },
     "metadata": {},
     "output_type": "display_data"
    },
    {
     "name": "stdout",
     "output_type": "stream",
     "text": [
      "{'eval_loss': 2.392101287841797, 'eval_runtime': 0.095, 'eval_samples_per_second': 84.192, 'eval_steps_per_second': 21.048, 'epoch': 2.35}\n",
      "{'loss': 2.2921, 'learning_rate': 5e-06, 'epoch': 2.94}\n"
     ]
    },
    {
     "data": {
      "application/vnd.jupyter.widget-view+json": {
       "model_id": "dff78aa986b14e048042ba013bda49c2",
       "version_major": 2,
       "version_minor": 0
      },
      "text/plain": [
       "  0%|          | 0/2 [00:00<?, ?it/s]"
      ]
     },
     "metadata": {},
     "output_type": "display_data"
    },
    {
     "name": "stdout",
     "output_type": "stream",
     "text": [
      "{'eval_loss': 1.528806447982788, 'eval_runtime': 0.092, 'eval_samples_per_second': 86.938, 'eval_steps_per_second': 21.735, 'epoch': 2.94}\n",
      "{'loss': 1.6109, 'learning_rate': 6e-06, 'epoch': 3.53}\n"
     ]
    },
    {
     "data": {
      "application/vnd.jupyter.widget-view+json": {
       "model_id": "763d2cae78884ffe9c8b3aa5899844ba",
       "version_major": 2,
       "version_minor": 0
      },
      "text/plain": [
       "  0%|          | 0/2 [00:00<?, ?it/s]"
      ]
     },
     "metadata": {},
     "output_type": "display_data"
    },
    {
     "name": "stdout",
     "output_type": "stream",
     "text": [
      "{'eval_loss': 1.1531431674957275, 'eval_runtime': 0.115, 'eval_samples_per_second': 69.55, 'eval_steps_per_second': 17.387, 'epoch': 3.53}\n",
      "{'loss': 1.1201, 'learning_rate': 7.000000000000001e-06, 'epoch': 4.12}\n"
     ]
    },
    {
     "data": {
      "application/vnd.jupyter.widget-view+json": {
       "model_id": "0f6792ffe09b4ac2a902ea745265637b",
       "version_major": 2,
       "version_minor": 0
      },
      "text/plain": [
       "  0%|          | 0/2 [00:00<?, ?it/s]"
      ]
     },
     "metadata": {},
     "output_type": "display_data"
    },
    {
     "name": "stdout",
     "output_type": "stream",
     "text": [
      "{'eval_loss': 0.869480311870575, 'eval_runtime': 0.091, 'eval_samples_per_second': 87.893, 'eval_steps_per_second': 21.973, 'epoch': 4.12}\n",
      "{'loss': 0.8991, 'learning_rate': 8.000000000000001e-06, 'epoch': 4.71}\n"
     ]
    },
    {
     "data": {
      "application/vnd.jupyter.widget-view+json": {
       "model_id": "6329a40d77b4483fa925b9fcd5d543d8",
       "version_major": 2,
       "version_minor": 0
      },
      "text/plain": [
       "  0%|          | 0/2 [00:00<?, ?it/s]"
      ]
     },
     "metadata": {},
     "output_type": "display_data"
    },
    {
     "name": "stdout",
     "output_type": "stream",
     "text": [
      "{'eval_loss': 0.7612009644508362, 'eval_runtime': 0.091, 'eval_samples_per_second': 87.893, 'eval_steps_per_second': 21.973, 'epoch': 4.71}\n",
      "{'loss': 1.0374, 'learning_rate': 9e-06, 'epoch': 5.29}\n"
     ]
    },
    {
     "data": {
      "application/vnd.jupyter.widget-view+json": {
       "model_id": "7d3cef32e8754303aee47f17650bd434",
       "version_major": 2,
       "version_minor": 0
      },
      "text/plain": [
       "  0%|          | 0/2 [00:00<?, ?it/s]"
      ]
     },
     "metadata": {},
     "output_type": "display_data"
    },
    {
     "name": "stdout",
     "output_type": "stream",
     "text": [
      "{'eval_loss': 0.7286381721496582, 'eval_runtime': 0.102, 'eval_samples_per_second': 78.413, 'eval_steps_per_second': 19.603, 'epoch': 5.29}\n",
      "{'loss': 0.7932, 'learning_rate': 1e-05, 'epoch': 5.88}\n"
     ]
    },
    {
     "data": {
      "application/vnd.jupyter.widget-view+json": {
       "model_id": "304b237ceba0461c8f4b02d7f8343f08",
       "version_major": 2,
       "version_minor": 0
      },
      "text/plain": [
       "  0%|          | 0/2 [00:00<?, ?it/s]"
      ]
     },
     "metadata": {},
     "output_type": "display_data"
    },
    {
     "name": "stdout",
     "output_type": "stream",
     "text": [
      "{'eval_loss': 0.7418538331985474, 'eval_runtime': 0.105, 'eval_samples_per_second': 76.173, 'eval_steps_per_second': 19.043, 'epoch': 5.88}\n",
      "{'loss': 0.8125, 'learning_rate': 1.1000000000000001e-05, 'epoch': 6.47}\n"
     ]
    },
    {
     "data": {
      "application/vnd.jupyter.widget-view+json": {
       "model_id": "59048ddca0fa4f749bb26f8d900b0043",
       "version_major": 2,
       "version_minor": 0
      },
      "text/plain": [
       "  0%|          | 0/2 [00:00<?, ?it/s]"
      ]
     },
     "metadata": {},
     "output_type": "display_data"
    },
    {
     "name": "stdout",
     "output_type": "stream",
     "text": [
      "{'eval_loss': 0.6999688148498535, 'eval_runtime': 0.099, 'eval_samples_per_second': 80.789, 'eval_steps_per_second': 20.197, 'epoch': 6.47}\n",
      "{'loss': 0.5396, 'learning_rate': 1.2e-05, 'epoch': 7.06}\n"
     ]
    },
    {
     "data": {
      "application/vnd.jupyter.widget-view+json": {
       "model_id": "88d65931ee9f4e4a82e9de94e1851846",
       "version_major": 2,
       "version_minor": 0
      },
      "text/plain": [
       "  0%|          | 0/2 [00:00<?, ?it/s]"
      ]
     },
     "metadata": {},
     "output_type": "display_data"
    },
    {
     "name": "stdout",
     "output_type": "stream",
     "text": [
      "{'eval_loss': 0.6717108488082886, 'eval_runtime': 0.091, 'eval_samples_per_second': 87.892, 'eval_steps_per_second': 21.973, 'epoch': 7.06}\n",
      "{'loss': 0.5073, 'learning_rate': 1.3000000000000001e-05, 'epoch': 7.65}\n"
     ]
    },
    {
     "data": {
      "application/vnd.jupyter.widget-view+json": {
       "model_id": "99d04411c4d54125aa77b29f71551aa4",
       "version_major": 2,
       "version_minor": 0
      },
      "text/plain": [
       "  0%|          | 0/2 [00:00<?, ?it/s]"
      ]
     },
     "metadata": {},
     "output_type": "display_data"
    },
    {
     "name": "stdout",
     "output_type": "stream",
     "text": [
      "{'eval_loss': 0.7354111671447754, 'eval_runtime': 0.099, 'eval_samples_per_second': 80.789, 'eval_steps_per_second': 20.197, 'epoch': 7.65}\n",
      "{'loss': 0.5265, 'learning_rate': 1.4000000000000001e-05, 'epoch': 8.24}\n"
     ]
    },
    {
     "data": {
      "application/vnd.jupyter.widget-view+json": {
       "model_id": "5ffd73deb6494812be7887f0ac9e086f",
       "version_major": 2,
       "version_minor": 0
      },
      "text/plain": [
       "  0%|          | 0/2 [00:00<?, ?it/s]"
      ]
     },
     "metadata": {},
     "output_type": "display_data"
    },
    {
     "name": "stdout",
     "output_type": "stream",
     "text": [
      "{'eval_loss': 0.663489580154419, 'eval_runtime': 0.092, 'eval_samples_per_second': 86.936, 'eval_steps_per_second': 21.734, 'epoch': 8.24}\n",
      "{'loss': 0.4612, 'learning_rate': 1.5e-05, 'epoch': 8.82}\n"
     ]
    },
    {
     "data": {
      "application/vnd.jupyter.widget-view+json": {
       "model_id": "be52da122a3b4dfd8d906d00a22df197",
       "version_major": 2,
       "version_minor": 0
      },
      "text/plain": [
       "  0%|          | 0/2 [00:00<?, ?it/s]"
      ]
     },
     "metadata": {},
     "output_type": "display_data"
    },
    {
     "name": "stdout",
     "output_type": "stream",
     "text": [
      "{'eval_loss': 0.6804887056350708, 'eval_runtime': 0.097, 'eval_samples_per_second': 82.456, 'eval_steps_per_second': 20.614, 'epoch': 8.82}\n",
      "{'loss': 0.4879, 'learning_rate': 1.6000000000000003e-05, 'epoch': 9.41}\n"
     ]
    },
    {
     "data": {
      "application/vnd.jupyter.widget-view+json": {
       "model_id": "8e37fff8051c41e0b3dfed13523c1008",
       "version_major": 2,
       "version_minor": 0
      },
      "text/plain": [
       "  0%|          | 0/2 [00:00<?, ?it/s]"
      ]
     },
     "metadata": {},
     "output_type": "display_data"
    },
    {
     "name": "stdout",
     "output_type": "stream",
     "text": [
      "{'eval_loss': 0.6822841167449951, 'eval_runtime': 0.098, 'eval_samples_per_second': 81.614, 'eval_steps_per_second': 20.404, 'epoch': 9.41}\n",
      "{'loss': 0.4312, 'learning_rate': 1.7000000000000003e-05, 'epoch': 10.0}\n"
     ]
    },
    {
     "data": {
      "application/vnd.jupyter.widget-view+json": {
       "model_id": "daae9b6bf243482ab4058e1c5884444f",
       "version_major": 2,
       "version_minor": 0
      },
      "text/plain": [
       "  0%|          | 0/2 [00:00<?, ?it/s]"
      ]
     },
     "metadata": {},
     "output_type": "display_data"
    },
    {
     "name": "stdout",
     "output_type": "stream",
     "text": [
      "{'eval_loss': 0.775656521320343, 'eval_runtime': 0.087, 'eval_samples_per_second': 91.934, 'eval_steps_per_second': 22.983, 'epoch': 10.0}\n",
      "{'loss': 0.3812, 'learning_rate': 1.8e-05, 'epoch': 10.59}\n"
     ]
    },
    {
     "data": {
      "application/vnd.jupyter.widget-view+json": {
       "model_id": "1189ebb7c30149a1b61cfdecbbd47ed8",
       "version_major": 2,
       "version_minor": 0
      },
      "text/plain": [
       "  0%|          | 0/2 [00:00<?, ?it/s]"
      ]
     },
     "metadata": {},
     "output_type": "display_data"
    },
    {
     "name": "stdout",
     "output_type": "stream",
     "text": [
      "{'eval_loss': 0.7947850227355957, 'eval_runtime': 0.106, 'eval_samples_per_second': 75.455, 'eval_steps_per_second': 18.864, 'epoch': 10.59}\n",
      "{'loss': 0.333, 'learning_rate': 1.9e-05, 'epoch': 11.18}\n"
     ]
    },
    {
     "data": {
      "application/vnd.jupyter.widget-view+json": {
       "model_id": "10c5b238165e48df9d7069b850d2b80f",
       "version_major": 2,
       "version_minor": 0
      },
      "text/plain": [
       "  0%|          | 0/2 [00:00<?, ?it/s]"
      ]
     },
     "metadata": {},
     "output_type": "display_data"
    },
    {
     "name": "stdout",
     "output_type": "stream",
     "text": [
      "{'eval_loss': 0.8162636756896973, 'eval_runtime': 0.1, 'eval_samples_per_second': 79.982, 'eval_steps_per_second': 19.995, 'epoch': 11.18}\n",
      "{'loss': 0.2278, 'learning_rate': 2e-05, 'epoch': 11.76}\n"
     ]
    },
    {
     "data": {
      "application/vnd.jupyter.widget-view+json": {
       "model_id": "837d0e5d6ec843b29331a1d79395189e",
       "version_major": 2,
       "version_minor": 0
      },
      "text/plain": [
       "  0%|          | 0/2 [00:00<?, ?it/s]"
      ]
     },
     "metadata": {},
     "output_type": "display_data"
    },
    {
     "name": "stdout",
     "output_type": "stream",
     "text": [
      "{'eval_loss': 0.8535722494125366, 'eval_runtime': 0.097, 'eval_samples_per_second': 82.455, 'eval_steps_per_second': 20.614, 'epoch': 11.76}\n",
      "{'loss': 0.3262, 'learning_rate': 2.1e-05, 'epoch': 12.35}\n"
     ]
    },
    {
     "data": {
      "application/vnd.jupyter.widget-view+json": {
       "model_id": "d19bb242357448d5a6cfd87b3d51a51f",
       "version_major": 2,
       "version_minor": 0
      },
      "text/plain": [
       "  0%|          | 0/2 [00:00<?, ?it/s]"
      ]
     },
     "metadata": {},
     "output_type": "display_data"
    },
    {
     "name": "stdout",
     "output_type": "stream",
     "text": [
      "{'eval_loss': 0.8197470903396606, 'eval_runtime': 0.118, 'eval_samples_per_second': 67.781, 'eval_steps_per_second': 16.945, 'epoch': 12.35}\n",
      "{'loss': 0.2545, 'learning_rate': 2.2000000000000003e-05, 'epoch': 12.94}\n"
     ]
    },
    {
     "data": {
      "application/vnd.jupyter.widget-view+json": {
       "model_id": "11f8b1d51ae34ce69a50ce918d1679db",
       "version_major": 2,
       "version_minor": 0
      },
      "text/plain": [
       "  0%|          | 0/2 [00:00<?, ?it/s]"
      ]
     },
     "metadata": {},
     "output_type": "display_data"
    },
    {
     "name": "stdout",
     "output_type": "stream",
     "text": [
      "{'eval_loss': 0.7760680913925171, 'eval_runtime': 0.083, 'eval_samples_per_second': 96.363, 'eval_steps_per_second': 24.091, 'epoch': 12.94}\n",
      "{'loss': 0.2524, 'learning_rate': 2.3000000000000003e-05, 'epoch': 13.53}\n"
     ]
    },
    {
     "data": {
      "application/vnd.jupyter.widget-view+json": {
       "model_id": "99b12b3f48cf492580dda31aee044f16",
       "version_major": 2,
       "version_minor": 0
      },
      "text/plain": [
       "  0%|          | 0/2 [00:00<?, ?it/s]"
      ]
     },
     "metadata": {},
     "output_type": "display_data"
    },
    {
     "name": "stdout",
     "output_type": "stream",
     "text": [
      "{'eval_loss': 0.8457928895950317, 'eval_runtime': 0.089, 'eval_samples_per_second': 89.868, 'eval_steps_per_second': 22.467, 'epoch': 13.53}\n",
      "{'loss': 0.2304, 'learning_rate': 2.4e-05, 'epoch': 14.12}\n"
     ]
    },
    {
     "data": {
      "application/vnd.jupyter.widget-view+json": {
       "model_id": "e06c22078eaf4f8c813aec8f2d9ea99c",
       "version_major": 2,
       "version_minor": 0
      },
      "text/plain": [
       "  0%|          | 0/2 [00:00<?, ?it/s]"
      ]
     },
     "metadata": {},
     "output_type": "display_data"
    },
    {
     "name": "stdout",
     "output_type": "stream",
     "text": [
      "{'eval_loss': 0.7827653884887695, 'eval_runtime': 0.088, 'eval_samples_per_second': 90.889, 'eval_steps_per_second': 22.722, 'epoch': 14.12}\n",
      "{'loss': 0.2106, 'learning_rate': 2.5e-05, 'epoch': 14.71}\n"
     ]
    },
    {
     "data": {
      "application/vnd.jupyter.widget-view+json": {
       "model_id": "6e44cfae185f49c586b311d7a3b5ac49",
       "version_major": 2,
       "version_minor": 0
      },
      "text/plain": [
       "  0%|          | 0/2 [00:00<?, ?it/s]"
      ]
     },
     "metadata": {},
     "output_type": "display_data"
    },
    {
     "name": "stdout",
     "output_type": "stream",
     "text": [
      "{'eval_loss': 0.9711150527000427, 'eval_runtime': 0.094, 'eval_samples_per_second': 85.089, 'eval_steps_per_second': 21.272, 'epoch': 14.71}\n",
      "{'loss': 0.1551, 'learning_rate': 2.6000000000000002e-05, 'epoch': 15.29}\n"
     ]
    },
    {
     "data": {
      "application/vnd.jupyter.widget-view+json": {
       "model_id": "23ad5227f8be469b860ecdaf99f29839",
       "version_major": 2,
       "version_minor": 0
      },
      "text/plain": [
       "  0%|          | 0/2 [00:00<?, ?it/s]"
      ]
     },
     "metadata": {},
     "output_type": "display_data"
    },
    {
     "name": "stdout",
     "output_type": "stream",
     "text": [
      "{'eval_loss': 0.8149964213371277, 'eval_runtime': 0.097, 'eval_samples_per_second': 82.456, 'eval_steps_per_second': 20.614, 'epoch': 15.29}\n",
      "{'loss': 0.1659, 'learning_rate': 2.7000000000000002e-05, 'epoch': 15.88}\n"
     ]
    },
    {
     "data": {
      "application/vnd.jupyter.widget-view+json": {
       "model_id": "f23618ad63224476b871354de35a4b7b",
       "version_major": 2,
       "version_minor": 0
      },
      "text/plain": [
       "  0%|          | 0/2 [00:00<?, ?it/s]"
      ]
     },
     "metadata": {},
     "output_type": "display_data"
    },
    {
     "name": "stdout",
     "output_type": "stream",
     "text": [
      "{'eval_loss': 0.985166609287262, 'eval_runtime': 0.103, 'eval_samples_per_second': 77.653, 'eval_steps_per_second': 19.413, 'epoch': 15.88}\n",
      "{'loss': 0.1795, 'learning_rate': 2.8000000000000003e-05, 'epoch': 16.47}\n"
     ]
    },
    {
     "data": {
      "application/vnd.jupyter.widget-view+json": {
       "model_id": "aeeaf964af5f477a9636289121550383",
       "version_major": 2,
       "version_minor": 0
      },
      "text/plain": [
       "  0%|          | 0/2 [00:00<?, ?it/s]"
      ]
     },
     "metadata": {},
     "output_type": "display_data"
    },
    {
     "name": "stdout",
     "output_type": "stream",
     "text": [
      "{'eval_loss': 0.9106060266494751, 'eval_runtime': 0.103, 'eval_samples_per_second': 77.653, 'eval_steps_per_second': 19.413, 'epoch': 16.47}\n",
      "{'loss': 0.1488, 'learning_rate': 2.9e-05, 'epoch': 17.06}\n"
     ]
    },
    {
     "data": {
      "application/vnd.jupyter.widget-view+json": {
       "model_id": "7eb1d19dd941430e92e89596853d607c",
       "version_major": 2,
       "version_minor": 0
      },
      "text/plain": [
       "  0%|          | 0/2 [00:00<?, ?it/s]"
      ]
     },
     "metadata": {},
     "output_type": "display_data"
    },
    {
     "name": "stdout",
     "output_type": "stream",
     "text": [
      "{'eval_loss': 0.8301354646682739, 'eval_runtime': 0.096, 'eval_samples_per_second': 83.315, 'eval_steps_per_second': 20.829, 'epoch': 17.06}\n",
      "{'loss': 0.2209, 'learning_rate': 3e-05, 'epoch': 17.65}\n"
     ]
    },
    {
     "data": {
      "application/vnd.jupyter.widget-view+json": {
       "model_id": "dda92767a1db456cb991945cf1260156",
       "version_major": 2,
       "version_minor": 0
      },
      "text/plain": [
       "  0%|          | 0/2 [00:00<?, ?it/s]"
      ]
     },
     "metadata": {},
     "output_type": "display_data"
    },
    {
     "name": "stdout",
     "output_type": "stream",
     "text": [
      "{'eval_loss': 0.9723851680755615, 'eval_runtime': 0.091, 'eval_samples_per_second': 87.893, 'eval_steps_per_second': 21.973, 'epoch': 17.65}\n",
      "{'loss': 0.1577, 'learning_rate': 3.1e-05, 'epoch': 18.24}\n"
     ]
    },
    {
     "data": {
      "application/vnd.jupyter.widget-view+json": {
       "model_id": "900ae6747ad54a52ae23fbaca6641b74",
       "version_major": 2,
       "version_minor": 0
      },
      "text/plain": [
       "  0%|          | 0/2 [00:00<?, ?it/s]"
      ]
     },
     "metadata": {},
     "output_type": "display_data"
    },
    {
     "name": "stdout",
     "output_type": "stream",
     "text": [
      "{'eval_loss': 1.1979358196258545, 'eval_runtime': 0.096, 'eval_samples_per_second': 83.315, 'eval_steps_per_second': 20.829, 'epoch': 18.24}\n",
      "{'loss': 0.1959, 'learning_rate': 3.2000000000000005e-05, 'epoch': 18.82}\n"
     ]
    },
    {
     "data": {
      "application/vnd.jupyter.widget-view+json": {
       "model_id": "8b1eb99d0a0445348d59b311d7d86c85",
       "version_major": 2,
       "version_minor": 0
      },
      "text/plain": [
       "  0%|          | 0/2 [00:00<?, ?it/s]"
      ]
     },
     "metadata": {},
     "output_type": "display_data"
    },
    {
     "name": "stdout",
     "output_type": "stream",
     "text": [
      "{'eval_loss': 0.9393177032470703, 'eval_runtime': 0.097, 'eval_samples_per_second': 82.456, 'eval_steps_per_second': 20.614, 'epoch': 18.82}\n",
      "{'loss': 0.1718, 'learning_rate': 3.3e-05, 'epoch': 19.41}\n"
     ]
    },
    {
     "data": {
      "application/vnd.jupyter.widget-view+json": {
       "model_id": "ddadc260a28646acb7960a7e142bc4e2",
       "version_major": 2,
       "version_minor": 0
      },
      "text/plain": [
       "  0%|          | 0/2 [00:00<?, ?it/s]"
      ]
     },
     "metadata": {},
     "output_type": "display_data"
    },
    {
     "name": "stdout",
     "output_type": "stream",
     "text": [
      "{'eval_loss': 1.0915284156799316, 'eval_runtime': 0.095, 'eval_samples_per_second': 84.192, 'eval_steps_per_second': 21.048, 'epoch': 19.41}\n",
      "{'loss': 0.171, 'learning_rate': 3.4000000000000007e-05, 'epoch': 20.0}\n"
     ]
    },
    {
     "data": {
      "application/vnd.jupyter.widget-view+json": {
       "model_id": "8a7a952b42c045e79e606029450bdce9",
       "version_major": 2,
       "version_minor": 0
      },
      "text/plain": [
       "  0%|          | 0/2 [00:00<?, ?it/s]"
      ]
     },
     "metadata": {},
     "output_type": "display_data"
    },
    {
     "name": "stdout",
     "output_type": "stream",
     "text": [
      "{'eval_loss': 0.8694055676460266, 'eval_runtime': 0.099, 'eval_samples_per_second': 80.791, 'eval_steps_per_second': 20.198, 'epoch': 20.0}\n",
      "{'train_runtime': 170.5342, 'train_samples_per_second': 7.74, 'train_steps_per_second': 1.994, 'train_loss': 1.240505423265345, 'epoch': 20.0}\n"
     ]
    },
    {
     "data": {
      "text/plain": [
       "TrainOutput(global_step=340, training_loss=1.240505423265345, metrics={'train_runtime': 170.5342, 'train_samples_per_second': 7.74, 'train_steps_per_second': 1.994, 'train_loss': 1.240505423265345, 'epoch': 20.0})"
      ]
     },
     "execution_count": 8,
     "metadata": {},
     "output_type": "execute_result"
    }
   ],
   "source": [
    "# Load model and move to GPU\n",
    "device = torch.device('cuda' if torch.cuda.is_available() else 'cpu')\n",
    "model = BartForConditionalGeneration.from_pretrained('facebook/bart-large').to(device)\n",
    "\n",
    "# Training arguments\n",
    "training_args = TrainingArguments(\n",
    "    num_train_epochs=20,\n",
    "    per_device_train_batch_size=4,\n",
    "    per_device_eval_batch_size=4,\n",
    "    warmup_steps=500,\n",
    "    weight_decay=0.01,\n",
    "    logging_steps=10,\n",
    "    evaluation_strategy=\"steps\",\n",
    "    save_steps=10_000,\n",
    "    save_total_limit=2,\n",
    "    load_best_model_at_end=True,\n",
    "    metric_for_best_model=\"eval_loss\",\n",
    "    output_dir='./results',\n",
    "    logging_dir='./logs',\n",
    ")\n",
    "\n",
    "# Initialize Trainer\n",
    "trainer = Trainer(\n",
    "    model=model,\n",
    "    args=training_args,\n",
    "    train_dataset=train_dataset,\n",
    "    eval_dataset=val_dataset,\n",
    ")\n",
    "\n",
    "trainer.train()"
   ]
  },
  {
   "cell_type": "code",
   "execution_count": 12,
   "metadata": {},
   "outputs": [
    {
     "data": {
      "image/png": "[encoded data removed]",
      "text/plain": [
       "<Figure size 1000x500 with 1 Axes>"
      ]
     },
     "metadata": {},
     "output_type": "display_data"
    }
   ],
   "source": [
    "# Extract metrics\n",
    "metrics = trainer.state.log_history\n",
    "\n",
    "# Separate training and evaluation metrics\n",
    "train_loss = [x['loss'] for x in metrics if 'loss' in x.keys()]\n",
    "eval_loss = [x['eval_loss'] for x in metrics if 'eval_loss' in x.keys()]\n",
    "steps = [x['step'] for x in metrics if 'step' in x.keys()]\n",
    "\n",
    "# Ensure steps, train_loss, and eval_loss have the same length\n",
    "min_length = min(len(steps), len(train_loss), len(eval_loss))\n",
    "steps = steps[:min_length]\n",
    "train_loss = train_loss[:min_length]\n",
    "eval_loss = eval_loss[:min_length]\n",
    "\n",
    "# Plot training and evaluation loss\n",
    "plt.figure(figsize=(10, 5))\n",
    "plt.plot(steps, train_loss, label='Training Loss')\n",
    "plt.plot(steps, eval_loss, label='Evaluation Loss')\n",
    "plt.xlabel('Steps')\n",
    "plt.ylabel('Loss')\n",
    "plt.legend()\n",
    "plt.title('Training and Evaluation Loss')\n",
    "plt.show()"
   ]
  },
  {
   "cell_type": "code",
   "execution_count": 14,
   "metadata": {},
   "outputs": [
    {
     "name": "stderr",
     "output_type": "stream",
     "text": [
      "Some non-default generation parameters are set in the model config. These should go into a GenerationConfig file (https://huggingface.co/docs/transformers/generation_strategies#save-a-custom-decoding-strategy-with-your-model) instead. This warning will be raised to an exception in v4.41.\n",
      "Non-default generation parameters: {'early_stopping': True, 'num_beams': 4, 'no_repeat_ngram_size': 3, 'forced_bos_token_id': 0, 'forced_eos_token_id': 2}\n"
     ]
    }
   ],
   "source": [
    "# Save the final trained model\n",
    "model_path = \"./fine_tuned_bart\"\n",
    "trainer.save_model(model_path)"
   ]
  }
 ],
 "metadata": {
  "kernelspec": {
   "display_name": "bart-env",
   "language": "python",
   "name": "python3"
  },
  "language_info": {
   "codemirror_mode": {
    "name": "ipython",
    "version": 3
   },
   "file_extension": ".py",
   "mimetype": "text/x-python",
   "name": "python",
   "nbconvert_exporter": "python",
   "pygments_lexer": "ipython3",
   "version": "3.9.19"
  }
 },
 "nbformat": 4,
 "nbformat_minor": 2
}
